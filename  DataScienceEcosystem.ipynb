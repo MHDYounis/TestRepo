{
 "cells": [
  {
   "cell_type": "markdown",
   "id": "37f311c9-ba61-48fe-8cdf-b8d876be3881",
   "metadata": {},
   "source": [
    "# Data Science Tools and Ecosystem"
   ]
  },
  {
   "cell_type": "markdown",
   "id": "9b95fe2c-e181-4c04-b3d5-faabc6899a11",
   "metadata": {},
   "source": [
    "## An Introduction\n",
    "In this notebook, we will summarize data science tools and ecosystem. Data science tools and ecosystems are essential in helping data scientists and analysts extract valuable insights from data."
   ]
  },
  {
   "cell_type": "markdown",
   "id": "80a5ec22-ee4f-46bc-9a4a-865551fc9792",
   "metadata": {},
   "source": [
    "#### Here are some popular languages for Data Science:\n",
    "\n",
    "1. Python\n",
    "2. R\n",
    "3. SQL\n",
    "4. Julia"
   ]
  },
  {
   "cell_type": "markdown",
   "id": "b9f68046-cb42-48bd-868d-5dbcb0177a8f",
   "metadata": {},
   "source": [
    "### Some of the popular libraries used by Data Scientists include:\n",
    "\n",
    "1. Matplot.lib\n",
    "2. Numpy\n",
    "3. Scipy\n",
    "4. Pandas\n",
    "5. TensorFlow\n",
    "6. Pytorch"
   ]
  },
  {
   "cell_type": "markdown",
   "id": "b4e2c73f-41c6-47a1-b2ba-1d566050cf92",
   "metadata": {},
   "source": [
    "|  Data Science Tools |\n",
    "| --- |\n",
    " Jupyter Notebook\n",
    " RStudio\n",
    " Apache Spark"
   ]
  },
  {
   "cell_type": "markdown",
   "id": "87c44d00-754e-40a3-8e3b-47a402fd9f34",
   "metadata": {},
   "source": [
    "### Below are a few examples of evaluating arithmetic expressions in Python:"
   ]
  },
  {
   "cell_type": "code",
   "execution_count": 55,
   "id": "7adb64e2-b03c-4c74-8581-dc5df82149cc",
   "metadata": {},
   "outputs": [
    {
     "data": {
      "text/plain": [
       "True"
      ]
     },
     "execution_count": 55,
     "metadata": {},
     "output_type": "execute_result"
    }
   ],
   "source": [
    "# This a simple arithmetic expression to mutiply then add integers\n",
    "Eval = (3*4) + 5\n",
    "Eval == 17"
   ]
  },
  {
   "cell_type": "code",
   "execution_count": 65,
   "id": "6a1e3562-3251-461c-9b74-24d42e9e2d39",
   "metadata": {},
   "outputs": [
    {
     "data": {
      "text/plain": [
       "3.3333333333333335"
      ]
     },
     "execution_count": 65,
     "metadata": {},
     "output_type": "execute_result"
    }
   ],
   "source": [
    "# This will convert 200 minutes to hours by diving by 60\n",
    "200/60"
   ]
  },
  {
   "cell_type": "markdown",
   "id": "94c7b200-a070-4424-a23b-eb1d69596f3d",
   "metadata": {},
   "source": [
    "# Objectives:\n",
    "This notebook covered:\n",
    "\n",
    "- Some of the popular languages that Data Scientists use.\n",
    "- Some of the commonly libraries used by Data Scientists.\n",
    "- Some data science tools.\n",
    "- Arithmetic expressions in Python."
   ]
  },
  {
   "cell_type": "markdown",
   "id": "4e800da3-660a-4339-9356-34b667d032da",
   "metadata": {},
   "source": [
    "## Author\n",
    "Mohammed Hamid Dodeh Younis"
   ]
  }
 ],
 "metadata": {
  "kernelspec": {
   "display_name": "Python 3 (ipykernel)",
   "language": "python",
   "name": "python3"
  },
  "language_info": {
   "codemirror_mode": {
    "name": "ipython",
    "version": 3
   },
   "file_extension": ".py",
   "mimetype": "text/x-python",
   "name": "python",
   "nbconvert_exporter": "python",
   "pygments_lexer": "ipython3",
   "version": "3.12.4"
  }
 },
 "nbformat": 4,
 "nbformat_minor": 5
}
